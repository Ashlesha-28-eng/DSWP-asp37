{
 "cells": [
  {
   "cell_type": "markdown",
   "id": "cc121077-d3f3-457d-93ce-7faf9f615d98",
   "metadata": {},
   "source": [
    "# Python - Functions\n"
   ]
  },
  {
   "cell_type": "code",
   "execution_count": null,
   "id": "7396ea09-e335-44d8-8969-3b0ae906f1dd",
   "metadata": {},
   "outputs": [],
   "source": [
    "# By default, parameters have a positional behavior and you need to inform them in the same order that they were defined.\n",
    "\n",
    "# Once the function is defined, you can execute it by calling it from another function or directly from the Python prompt."
   ]
  },
  {
   "cell_type": "code",
   "execution_count": null,
   "id": "498f9c91-7a85-4398-a1ca-0a659e869149",
   "metadata": {},
   "outputs": [
    {
     "name": "stdout",
     "output_type": "stream",
     "text": [
      "Hello World\n"
     ]
    }
   ],
   "source": [
    "def greetings():\n",
    "   \"This is docstring of greetings function\"\n",
    "   print(\"Hello World\")\n",
    "   return;\n",
    "greetings()    "
   ]
  },
  {
   "cell_type": "code",
   "execution_count": null,
   "id": "653b32d3-ff26-498f-b0f6-b6214e5708ee",
   "metadata": {},
   "outputs": [
    {
     "name": "stdout",
     "output_type": "stream",
     "text": [
      "I'm first call to user defined function!\n",
      "Again second call to the same function\n"
     ]
    }
   ],
   "source": [
    "# Function definition is here\n",
    "def printme( str ):\n",
    "   \"This prints a passed string into this function\"\n",
    "   print (str)\n",
    "   return;\n",
    "\n",
    "# Now you can call the function\n",
    "printme(\"I'm first call to user defined function!\")\n",
    "printme(\"Again second call to the same function\")"
   ]
  },
  {
   "cell_type": "code",
   "execution_count": null,
   "id": "ab7a1c3b-cd2c-4379-8d03-a60c012a718d",
   "metadata": {},
   "outputs": [
    {
     "name": "stdout",
     "output_type": "stream",
     "text": [
      "Hello Sham\n",
      "Hello Pratima\n",
      "Hello Ram\n"
     ]
    }
   ],
   "source": [
    "# Let's modify greetings function and have name an argument. A string passed to the function as actual argument becomes name variable inside the function.\n",
    "\n",
    "def greetings(name):\n",
    "   \"This is docstring of greetings function\"\n",
    "   print (\"Hello {}\".format(name))\n",
    "   return\n",
    "   \n",
    "greetings(\"Sham\")\n",
    "greetings(\"Pratima\")\n",
    "greetings(\"Ram\")"
   ]
  },
  {
   "cell_type": "code",
   "execution_count": null,
   "id": "163f73ec-c40e-470c-841f-22f9977f8c19",
   "metadata": {},
   "outputs": [
    {
     "name": "stdout",
     "output_type": "stream",
     "text": [
      "ID before passing: 127903789505424\n",
      "ID inside the function: 127903789505424\n"
     ]
    }
   ],
   "source": [
    "# In the following example, we are checking the id() of a variable.\n",
    "def testfunction(arg):\n",
    "   print (\"ID inside the function:\", id(arg))\n",
    "\n",
    "var = \"Hello\"\n",
    "print (\"ID before passing:\", id(var))\n",
    "testfunction(var)"
   ]
  },
  {
   "cell_type": "code",
   "execution_count": null,
   "id": "7f2264a2-107a-4de5-b046-59e49c1a3362",
   "metadata": {},
   "outputs": [
    {
     "name": "stdout",
     "output_type": "stream",
     "text": [
      "ID before passing: 9767048\n",
      "ID inside the function: 9767048\n",
      "new object after increment 11 9767080\n",
      "value after function call 10\n"
     ]
    }
   ],
   "source": [
    "#If the above code is executed, the id() before passing and inside the function will be displayed.\n",
    "# The behavior also depends on whether the passed object is mutable or immutable. Python numeric object is immutable. When a numeric object is passed, and then the function changes the value of the formal argument, it actually creates a new object in the memory, leaving the original variable unchanged.\n",
    "# The following example shows how an immutable object behaves when it is passed to a function.\n",
    "def testfunction(arg):\n",
    "   print (\"ID inside the function:\", id(arg))\n",
    "   arg = arg + 1\n",
    "   print (\"new object after increment\", arg, id(arg))\n",
    "\n",
    "var=10\n",
    "print (\"ID before passing:\", id(var))\n",
    "testfunction(var)\n",
    "print (\"value after function call\", var)"
   ]
  },
  {
   "cell_type": "code",
   "execution_count": null,
   "id": "4ed005a7-987a-4822-a0c0-e42c69d78453",
   "metadata": {},
   "outputs": [
    {
     "name": "stdout",
     "output_type": "stream",
     "text": [
      "ID before passing: 127903789489472\n",
      "Inside function: [10, 20, 30, 40]\n",
      "ID inside the function: 127903789489472\n",
      "list after function call [10, 20, 30, 40, 100]\n"
     ]
    }
   ],
   "source": [
    "# Let us now pass a mutable object (such as a list or dictionary) to a function. It is also passed by reference, as the id() of list before and after passing is same. However, if we modify the list inside the function, its global representation also reflects the change.\n",
    "\n",
    "# Example\n",
    "# Here we pass a list, append a new item, and see the contents of original list object, which we will find has changed.\n",
    "def testfunction(arg):\n",
    "   print (\"Inside function:\",arg)\n",
    "   print (\"ID inside the function:\", id(arg))\n",
    "   arg=arg.append(100)\n",
    "   \n",
    "var=[10, 20, 30, 40]\n",
    "print (\"ID before passing:\", id(var))\n",
    "testfunction(var)\n",
    "print (\"list after function call\", var)"
   ]
  },
  {
   "cell_type": "code",
   "execution_count": null,
   "id": "82754205-ea75-4072-8c1c-ff0f26f5edce",
   "metadata": {},
   "outputs": [
    {
     "ename": "TypeError",
     "evalue": "printme() missing 1 required positional argument: 'str'",
     "output_type": "error",
     "traceback": [
      "\u001b[0;31m---------------------------------------------------------------------------\u001b[0m",
      "\u001b[0;31mTypeError\u001b[0m                                 Traceback (most recent call last)",
      "Cell \u001b[0;32mIn[1], line 8\u001b[0m\n\u001b[1;32m      5\u001b[0m    \u001b[38;5;28;01mreturn\u001b[39;00m;\n\u001b[1;32m      7\u001b[0m \u001b[38;5;66;03m# Now you can call printme function\u001b[39;00m\n\u001b[0;32m----> 8\u001b[0m printme()\n",
      "\u001b[0;31mTypeError\u001b[0m: printme() missing 1 required positional argument: 'str'"
     ]
    }
   ],
   "source": [
    "# Function definition is here\n",
    "def printme( str ):\n",
    "   \"This prints a passed string into this function\"\n",
    "   print (str)\n",
    "   return;\n",
    "\n",
    "# Now you can call printme function\n",
    "printme()"
   ]
  },
  {
   "cell_type": "code",
   "execution_count": null,
   "id": "857e60e4-2d2b-4bd7-bcaa-0794ff255372",
   "metadata": {},
   "outputs": [
    {
     "name": "stdout",
     "output_type": "stream",
     "text": [
      "Name:  miki\n",
      "Age  50\n"
     ]
    }
   ],
   "source": [
    "# Function definition is here\n",
    "def printinfo( name, age ):\n",
    "   \"This prints a passed info into this function\"\n",
    "   print (\"Name: \", name)\n",
    "   print (\"Age \", age)\n",
    "   return;\n",
    "\n",
    "# Now you can call printinfo function\n",
    "printinfo( age=50, name=\"miki\" )"
   ]
  },
  {
   "cell_type": "code",
   "execution_count": null,
   "id": "7b7814da-fc0b-41d3-babc-22c2b7944f64",
   "metadata": {},
   "outputs": [
    {
     "name": "stdout",
     "output_type": "stream",
     "text": [
      "Name:  mdl\n",
      "Age  50\n",
      "Name:  mdl\n",
      "Age  35\n"
     ]
    }
   ],
   "source": [
    "# Function definition is here\n",
    "def printinfo( name, age = 35 ):\n",
    "   \"This prints a passed info into this function\"\n",
    "   print (\"Name: \", name)\n",
    "   print (\"Age \", age)\n",
    "   return;\n",
    "\n",
    "# Now you can call printinfo function\n",
    "printinfo( age=50, name=\"mdl\" )\n",
    "printinfo( name=\"mdl\" )"
   ]
  },
  {
   "cell_type": "code",
   "execution_count": null,
   "id": "1e25d482-651a-4109-b214-7e52c0530e2a",
   "metadata": {},
   "outputs": [
    {
     "name": "stdout",
     "output_type": "stream",
     "text": [
      "Evaluating positional-only arguments: \n",
      "66\n"
     ]
    }
   ],
   "source": [
    "def posFun(x, y, /, z):\n",
    "    print(x + y + z)\n",
    "\n",
    "print(\"Evaluating positional-only arguments: \")\n",
    "posFun(33, 22, z=11) "
   ]
  },
  {
   "cell_type": "code",
   "execution_count": null,
   "id": "a5f40de1-97fe-4619-920a-c2536457051f",
   "metadata": {},
   "outputs": [
    {
     "name": "stdout",
     "output_type": "stream",
     "text": [
      "Evaluating keyword-only arguments: \n",
      "240\n"
     ]
    }
   ],
   "source": [
    "def posFun(*, num1, num2, num3):\n",
    "    print(num1 * num2 * num3)\n",
    "\n",
    "print(\"Evaluating keyword-only arguments: \")\n",
    "posFun(num3=6, num2=8, num1=5) "
   ]
  },
  {
   "cell_type": "code",
   "execution_count": null,
   "id": "9df967be-0d3e-4ebf-bc45-09e68c3405cd",
   "metadata": {},
   "outputs": [],
   "source": [
    "# Syntax for a function with non-keyword variable arguments is this −\n",
    "def functionname([formal_args,] *var_args_tuple ):\n",
    "   \"function_docstring\"\n",
    "   function_suite\n",
    "   return [expression]"
   ]
  },
  {
   "cell_type": "code",
   "execution_count": null,
   "id": "5924d243-bdad-4ccb-a6b7-b2d69daba364",
   "metadata": {},
   "outputs": [
    {
     "name": "stdout",
     "output_type": "stream",
     "text": [
      "Output is: \n",
      "10\n",
      "Output is: \n",
      "70\n",
      "60\n",
      "50\n"
     ]
    }
   ],
   "source": [
    "# Function definition is here\n",
    "def printinfo( arg1, *vartuple ):\n",
    "   \"This prints a variable passed arguments\"\n",
    "   print (\"Output is: \")\n",
    "   print (arg1)\n",
    "   for var in vartuple:\n",
    "      print (var)\n",
    "   return;\n",
    "\n",
    "# Now you can call printinfo function\n",
    "printinfo( 10 )\n",
    "printinfo( 70, 60, 50 )"
   ]
  },
  {
   "cell_type": "code",
   "execution_count": null,
   "id": "5046b533-8dd5-44c6-abd7-58932e69bbfb",
   "metadata": {},
   "outputs": [
    {
     "name": "stdout",
     "output_type": "stream",
     "text": [
      "a = 10 b = 20 a+b = 30\n"
     ]
    }
   ],
   "source": [
    "def add(x,y):\n",
    "   z=x+y\n",
    "   return z\n",
    "a=10\n",
    "b=20\n",
    "result = add(a,b)\n",
    "print (\"a = {} b = {} a+b = {}\".format(a, b, result))"
   ]
  },
  {
   "cell_type": "code",
   "execution_count": null,
   "id": "92020673-9c18-4795-8fa4-a8b3d94203c0",
   "metadata": {},
   "outputs": [
    {
     "name": "stdout",
     "output_type": "stream",
     "text": [
      "Value of total :  30\n",
      "Value of total :  40\n"
     ]
    }
   ],
   "source": [
    "# The syntax of lambda functions contains only a single statement, which is as follows −\n",
    "# Function definition is here\n",
    "sum = lambda arg1, arg2: arg1 + arg2;\n",
    "\n",
    "# Now you can call sum as a function\n",
    "print (\"Value of total : \", sum( 10, 20 ))\n",
    "print (\"Value of total : \", sum( 20, 20 ))"
   ]
  },
  {
   "cell_type": "code",
   "execution_count": null,
   "id": "79f3170c-4d4d-4071-8e95-2c1bc78e8cd8",
   "metadata": {},
   "outputs": [
    {
     "name": "stdout",
     "output_type": "stream",
     "text": [
      "Inside the function local total :  30\n",
      "Outside the function global total :  0\n"
     ]
    }
   ],
   "source": [
    "total = 0; # This is global variable.\n",
    "# Function definition is here\n",
    "def sum( arg1, arg2 ):\n",
    "   # Add both the parameters and return them.\"\n",
    "   total = arg1 + arg2; # Here total is local variable.\n",
    "   print (\"Inside the function local total : \", total)\n",
    "   return total;\n",
    "\n",
    "# Now you can call sum function\n",
    "sum( 10, 20 );\n",
    "print (\"Outside the function global total : \", total) "
   ]
  },
  {
   "cell_type": "code",
   "execution_count": null,
   "id": "a6c68ed7-27d7-4635-b715-59a0b5c0e1ed",
   "metadata": {},
   "outputs": [],
   "source": []
  }
 ],
 "metadata": {
  "kernelspec": {
   "display_name": "Python 3 (ipykernel)",
   "language": "python",
   "name": "python3"
  },
  "language_info": {
   "codemirror_mode": {
    "name": "ipython",
    "version": 3
   },
   "file_extension": ".py",
   "mimetype": "text/x-python",
   "name": "python",
   "nbconvert_exporter": "python",
   "pygments_lexer": "ipython3",
   "version": "3.12.7"
  }
 },
 "nbformat": 4,
 "nbformat_minor": 5
}
